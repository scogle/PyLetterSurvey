{
 "cells": [
  {
   "cell_type": "code",
   "execution_count": 24,
   "metadata": {
    "collapsed": true
   },
   "outputs": [],
   "source": [
    "%matplotlib inline\n",
    "\n",
    "import csv\n",
    "from matplotlib import pyplot as plt\n",
    "import numpy as np"
   ]
  },
  {
   "cell_type": "code",
   "execution_count": 20,
   "metadata": {
    "collapsed": false
   },
   "outputs": [],
   "source": [
    "with open('responses.csv', 'rb') as csvfile:\n",
    "    responses = [row for row in csv.reader(csvfile)][1:]\n",
    "    topicLists = [row[1] for row in responses]\n",
    "    skillLevels = [row[3] for row in responses]\n",
    "   "
   ]
  },
  {
   "cell_type": "code",
   "execution_count": 21,
   "metadata": {
    "collapsed": false
   },
   "outputs": [
    {
     "name": "stdout",
     "output_type": "stream",
     "text": [
      "Web Development, Creative Coding, Basic scripting tricks, Advanced Python language features, Distrubuted systems, async features and libraries \n",
      "Web Development, Creative Coding, Basic scripting tricks, Mashups, Advanced Python language features\n",
      "Web Development, Data Analysis / Scientific Computing, Basic scripting tricks, Mashups\n",
      "Web Development, Creative Coding, Basic scripting tricks, Advanced Python language features\n",
      "Web Development, Creative Coding, Basic scripting tricks, Mashups, Advanced Python language features\n",
      "Web Development, Basic scripting tricks\n",
      "Basic scripting tricks, Advanced Python language features\n",
      "Web Development, Creative Coding, Data Analysis / Scientific Computing, Mashups\n",
      "Data Analysis / Scientific Computing\n",
      "Creative Coding, Basic scripting tricks, Advanced Python language features\n",
      "Creative Coding, Advanced Python language features\n",
      "Web Development, Creative Coding, Basic scripting tricks, Advanced Python language features\n",
      "Creative Coding, Data Analysis / Scientific Computing, Basic scripting tricks, Advanced Python language features\n",
      "Creative Coding, Data Analysis / Scientific Computing, Basic scripting tricks\n",
      "Data Analysis / Scientific Computing, Basic scripting tricks, Advanced Python language features\n",
      "Web Development, Creative Coding, Basic scripting tricks, Advanced Python language features\n",
      "Web Development, Creative Coding, Data Analysis / Scientific Computing, Basic scripting tricks, Mashups, Advanced Python language features\n",
      "Web Development, Creative Coding, Advanced Python language features\n",
      "Web Development, Creative Coding, Advanced Python language features\n",
      "Web Development, Creative Coding, Advanced Python language features, Automation. Salt, Ansible, or local scripting. \n",
      "Data Analysis / Scientific Computing, Basic scripting tricks, Mashups, Advanced Python language features\n",
      "Web Development, Creative Coding, Data Analysis / Scientific Computing, Basic scripting tricks, Mashups, Advanced Python language features, yeah, this\n",
      "Web Development, Creative Coding, Basic scripting tricks, Mashups, Advanced Python language features\n",
      "Creative Coding, Data Analysis / Scientific Computing, Advanced Python language features\n",
      "Web Development, Creative Coding, Data Analysis / Scientific Computing, Basic scripting tricks\n"
     ]
    }
   ],
   "source": [
    "for t in topicLists:\n",
    "    print t"
   ]
  },
  {
   "cell_type": "code",
   "execution_count": 33,
   "metadata": {
    "collapsed": false,
    "scrolled": true
   },
   "outputs": [
    {
     "data": {
      "image/png": "[encoded data removed]",
      "text/plain": [
       "<matplotlib.figure.Figure at 0x10d650050>"
      ]
     },
     "metadata": {},
     "output_type": "display_data"
    }
   ],
   "source": [
    "counts = {}\n",
    "for s in skillLevels:\n",
    "    if s not in counts:\n",
    "        counts[s] = 1\n",
    "    else:\n",
    "        counts[s] += 1\n",
    "    \n",
    "vals = [counts['Beginner'], counts['Intermediate'], counts['Advanced']]\n",
    "names = ['Beginner', 'Intermediate', 'Advanced']\n",
    "x = np.arange(len(vals))\n",
    "plt.bar(x, vals)\n",
    "plt.xticks(x + 0.4, names)\n",
    "plt.show()"
   ]
  },
  {
   "cell_type": "code",
   "execution_count": null,
   "metadata": {
    "collapsed": true
   },
   "outputs": [],
   "source": []
  }
 ],
 "metadata": {
  "kernelspec": {
   "display_name": "Python 2",
   "language": "python",
   "name": "python2"
  },
  "language_info": {
   "codemirror_mode": {
    "name": "ipython",
    "version": 2
   },
   "file_extension": ".py",
   "mimetype": "text/x-python",
   "name": "python",
   "nbconvert_exporter": "python",
   "pygments_lexer": "ipython2",
   "version": "2.7.6"
  }
 },
 "nbformat": 4,
 "nbformat_minor": 0
}
